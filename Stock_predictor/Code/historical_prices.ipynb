{
 "cells": [
  {
   "cell_type": "code",
   "execution_count": 77,
   "metadata": {},
   "outputs": [],
   "source": [
    "import yfinance as yf\n",
    "import pandas as pd\n",
    "import time"
   ]
  },
  {
   "cell_type": "code",
   "execution_count": 78,
   "metadata": {},
   "outputs": [],
   "source": [
    "# # Example\n",
    "# reliance = yf.Ticker(\"ULTRACEMCO.NS\")\n",
    "\n",
    "# # get all stock info\n",
    "# reliance_hist = reliance.history(period = 'max')\n",
    "# reliance_hist.head()"
   ]
  },
  {
   "cell_type": "code",
   "execution_count": 79,
   "metadata": {},
   "outputs": [
    {
     "name": "stdout",
     "output_type": "stream",
     "text": [
      "(50, 5)\n",
      "                                 Company Name            Industry      Symbol  \\\n",
      "0                      Adani Enterprises Ltd.     Metals & Mining    ADANIENT   \n",
      "1  Adani Ports and Special Economic Zone Ltd.            Services  ADANIPORTS   \n",
      "2            Apollo Hospitals Enterprise Ltd.          Healthcare  APOLLOHOSP   \n",
      "3                           Asian Paints Ltd.   Consumer Durables  ASIANPAINT   \n",
      "4                              Axis Bank Ltd.  Financial Services    AXISBANK   \n",
      "\n",
      "  Series     ISIN Code  \n",
      "0     EQ  INE423A01024  \n",
      "1     EQ  INE742F01042  \n",
      "2     EQ  INE437A01024  \n",
      "3     EQ  INE021A01026  \n",
      "4     EQ  INE238A01034  \n"
     ]
    }
   ],
   "source": [
    "nifty50_list = pd.read_csv('ind_nifty50list.csv')\n",
    "print(nifty50_list.shape)\n",
    "print(nifty50_list.head())"
   ]
  },
  {
   "cell_type": "code",
   "execution_count": 80,
   "metadata": {},
   "outputs": [
    {
     "name": "stdout",
     "output_type": "stream",
     "text": [
      "(50, 6)\n",
      "                                 Company Name            Industry      Symbol  \\\n",
      "0                      Adani Enterprises Ltd.     Metals & Mining    ADANIENT   \n",
      "1  Adani Ports and Special Economic Zone Ltd.            Services  ADANIPORTS   \n",
      "2            Apollo Hospitals Enterprise Ltd.          Healthcare  APOLLOHOSP   \n",
      "3                           Asian Paints Ltd.   Consumer Durables  ASIANPAINT   \n",
      "4                              Axis Bank Ltd.  Financial Services    AXISBANK   \n",
      "\n",
      "  Series     ISIN Code      Symbol_yf  \n",
      "0     EQ  INE423A01024    ADANIENT.NS  \n",
      "1     EQ  INE742F01042  ADANIPORTS.NS  \n",
      "2     EQ  INE437A01024  APOLLOHOSP.NS  \n",
      "3     EQ  INE021A01026  ASIANPAINT.NS  \n",
      "4     EQ  INE238A01034    AXISBANK.NS  \n"
     ]
    }
   ],
   "source": [
    "nifty50_list['Symbol_yf'] = nifty50_list['Symbol'] + '.NS'\n",
    "print(nifty50_list.shape)\n",
    "print(nifty50_list.head())"
   ]
  },
  {
   "cell_type": "code",
   "execution_count": 81,
   "metadata": {},
   "outputs": [],
   "source": [
    "stock50_list = list(nifty50_list['Symbol_yf'])"
   ]
  },
  {
   "cell_type": "code",
   "execution_count": 82,
   "metadata": {},
   "outputs": [
    {
     "name": "stdout",
     "output_type": "stream",
     "text": [
      "1\n",
      "2\n",
      "3\n",
      "4\n",
      "5\n",
      "6\n",
      "7\n",
      "8\n",
      "9\n",
      "10\n",
      "11\n",
      "12\n",
      "13\n",
      "14\n",
      "15\n",
      "16\n",
      "17\n",
      "18\n",
      "19\n",
      "20\n",
      "21\n",
      "22\n",
      "23\n",
      "24\n",
      "25\n",
      "26\n",
      "27\n",
      "28\n",
      "29\n",
      "30\n",
      "31\n",
      "32\n",
      "33\n",
      "34\n",
      "35\n",
      "36\n",
      "37\n",
      "38\n",
      "39\n",
      "40\n",
      "41\n",
      "42\n",
      "43\n",
      "44\n",
      "45\n",
      "46\n",
      "47\n",
      "48\n",
      "49\n",
      "50\n"
     ]
    }
   ],
   "source": [
    "all_vars = {}\n",
    "for stock in enumerate(stock50_list):\n",
    "    globals()[f\"{stock[1].split('.')[0]}\"] = yf.Ticker(stock[1])\n",
    "    # globals()[f\"{stock[1].split('.')[0]}_hist\"] = globals()[f\"{stock[1].split('.')[0]}\"].history(period = 'max')\n",
    "    all_vars[f\"{stock[1].split('.')[0]}_hist\"] = globals()[f\"{stock[1].split('.')[0]}\"].history(period = 'max')\n",
    "    time.sleep(5)\n",
    "    print(len(list(all_vars.keys())))\n"
   ]
  },
  {
   "cell_type": "code",
   "execution_count": 83,
   "metadata": {},
   "outputs": [
    {
     "data": {
      "text/plain": [
       "dict_keys(['ADANIENT_hist', 'ADANIPORTS_hist', 'APOLLOHOSP_hist', 'ASIANPAINT_hist', 'AXISBANK_hist', 'BAJAJ-AUTO_hist', 'BAJFINANCE_hist', 'BAJAJFINSV_hist', 'BPCL_hist', 'BHARTIARTL_hist', 'BRITANNIA_hist', 'CIPLA_hist', 'COALINDIA_hist', 'DIVISLAB_hist', 'DRREDDY_hist', 'EICHERMOT_hist', 'GRASIM_hist', 'HCLTECH_hist', 'HDFCBANK_hist', 'HDFCLIFE_hist', 'HEROMOTOCO_hist', 'HINDALCO_hist', 'HINDUNILVR_hist', 'ICICIBANK_hist', 'ITC_hist', 'INDUSINDBK_hist', 'INFY_hist', 'JSWSTEEL_hist', 'KOTAKBANK_hist', 'LTIM_hist', 'LT_hist', 'M&M_hist', 'MARUTI_hist', 'NTPC_hist', 'NESTLEIND_hist', 'ONGC_hist', 'POWERGRID_hist', 'RELIANCE_hist', 'SBILIFE_hist', 'SHRIRAMFIN_hist', 'SBIN_hist', 'SUNPHARMA_hist', 'TCS_hist', 'TATACONSUM_hist', 'TATAMOTORS_hist', 'TATASTEEL_hist', 'TECHM_hist', 'TITAN_hist', 'ULTRACEMCO_hist', 'WIPRO_hist'])"
      ]
     },
     "execution_count": 83,
     "metadata": {},
     "output_type": "execute_result"
    }
   ],
   "source": [
    "all_vars.keys()"
   ]
  },
  {
   "cell_type": "code",
   "execution_count": 84,
   "metadata": {},
   "outputs": [],
   "source": [
    "# # To add any missing stock manually\n",
    "# ULTRACEMCO = yf.Ticker(\"ULTRACEMCO.NS\")\n",
    "# ULTRACEMCO_hist = ULTRACEMCO.history(period='max')\n",
    "# ULTRACEMCO_hist.head()\n",
    "# all_vars['ULTRACEMCO_hist'] = ULTRACEMCO_hist"
   ]
  },
  {
   "cell_type": "code",
   "execution_count": 85,
   "metadata": {},
   "outputs": [
    {
     "data": {
      "text/plain": [
       "50"
      ]
     },
     "execution_count": 85,
     "metadata": {},
     "output_type": "execute_result"
    }
   ],
   "source": [
    "len(all_vars.keys())"
   ]
  },
  {
   "cell_type": "code",
   "execution_count": 86,
   "metadata": {},
   "outputs": [
    {
     "data": {
      "text/plain": [
       "dict_keys(['ADANIENT_hist', 'ADANIPORTS_hist', 'APOLLOHOSP_hist', 'ASIANPAINT_hist', 'AXISBANK_hist', 'BAJAJ-AUTO_hist', 'BAJFINANCE_hist', 'BAJAJFINSV_hist', 'BPCL_hist', 'BHARTIARTL_hist', 'BRITANNIA_hist', 'CIPLA_hist', 'COALINDIA_hist', 'DIVISLAB_hist', 'DRREDDY_hist', 'EICHERMOT_hist', 'GRASIM_hist', 'HCLTECH_hist', 'HDFCBANK_hist', 'HDFCLIFE_hist', 'HEROMOTOCO_hist', 'HINDALCO_hist', 'HINDUNILVR_hist', 'ICICIBANK_hist', 'ITC_hist', 'INDUSINDBK_hist', 'INFY_hist', 'JSWSTEEL_hist', 'KOTAKBANK_hist', 'LTIM_hist', 'LT_hist', 'M&M_hist', 'MARUTI_hist', 'NTPC_hist', 'NESTLEIND_hist', 'ONGC_hist', 'POWERGRID_hist', 'RELIANCE_hist', 'SBILIFE_hist', 'SHRIRAMFIN_hist', 'SBIN_hist', 'SUNPHARMA_hist', 'TCS_hist', 'TATACONSUM_hist', 'TATAMOTORS_hist', 'TATASTEEL_hist', 'TECHM_hist', 'TITAN_hist', 'ULTRACEMCO_hist', 'WIPRO_hist'])"
      ]
     },
     "execution_count": 86,
     "metadata": {},
     "output_type": "execute_result"
    }
   ],
   "source": [
    "all_vars.keys()"
   ]
  },
  {
   "cell_type": "code",
   "execution_count": 87,
   "metadata": {},
   "outputs": [],
   "source": [
    "# min = 10000\n",
    "# for key in all_vars.keys():\n",
    "#     if(all_vars[key].shape[0]) <= min:\n",
    "#         min = all_vars[key].shape[0]\n",
    "#         print(key)"
   ]
  },
  {
   "cell_type": "code",
   "execution_count": 88,
   "metadata": {},
   "outputs": [],
   "source": [
    "# for key in all_vars.keys():\n",
    "#     print(key, all_vars[key].shape, all_vars[key].shape[0]/365)"
   ]
  },
  {
   "cell_type": "code",
   "execution_count": 89,
   "metadata": {},
   "outputs": [],
   "source": [
    "# STORING THE DATA INTO A PICKLE FILE\n",
    "import pickle\n",
    "\n",
    "filename = 'nifty50.pickle'\n",
    "file_obj = open(filename, 'wb')\n",
    "pickle.dump(all_vars, file_obj)\n",
    "file_obj.close()"
   ]
  },
  {
   "cell_type": "code",
   "execution_count": 90,
   "metadata": {},
   "outputs": [],
   "source": [
    "#Reading the stored data from the pickle file\n",
    "nifty50_dict = []\n",
    "with (open(\"nifty50.pickle\", \"rb\")) as openfile:\n",
    "    while True:\n",
    "        try:\n",
    "            nifty50_dict.append(pickle.load(openfile))\n",
    "        except EOFError:\n",
    "            break\n",
    "nifty50_dict = nifty50_dict[0]"
   ]
  }
 ],
 "metadata": {
  "kernelspec": {
   "display_name": "myenv",
   "language": "python",
   "name": "python3"
  },
  "language_info": {
   "codemirror_mode": {
    "name": "ipython",
    "version": 3
   },
   "file_extension": ".py",
   "mimetype": "text/x-python",
   "name": "python",
   "nbconvert_exporter": "python",
   "pygments_lexer": "ipython3",
   "version": "3.11.9"
  }
 },
 "nbformat": 4,
 "nbformat_minor": 2
}
